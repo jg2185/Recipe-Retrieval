{
 "cells": [
  {
   "cell_type": "markdown",
   "metadata": {},
   "source": [
    "This is the inverted index part of this project.\n",
    "\n",
    "Some current thoughts\n",
    "1. read in the json file\n",
    "2. pre-process the ingredients\n",
    "   1. this might be a sample one for now, we'll need Jess's clean data. \n",
    "3. build the inverted index for ingredient\n",
    "4. save the inverted index"
   ]
  },
  {
   "cell_type": "code",
   "execution_count": 1,
   "metadata": {},
   "outputs": [],
   "source": [
    "import json\n",
    "from nltk.corpus import stopwords\n",
    "from nltk.tokenize import word_tokenize\n",
    "from nltk.stem import SnowballStemmer\n",
    "import string\n",
    "\n",
    "class InvertedIndex:\n",
    "    def __init__(self):\n",
    "        self.DFpostings = {}\n",
    "\n",
    "    def preProcess(self, text):\n",
    "        #define stemmer and stopwords\n",
    "        stemmer = SnowballStemmer(\"english\")\n",
    "        stop_words = set(stopwords.words('english'))\n",
    "\n",
    "        #clean and tokenize\n",
    "        text = text.lower()\n",
    "        text = ''.join([char for char in text if char not in string.punctuation and not char.isdigit()])\n",
    "        tokens = word_tokenize(text)\n",
    "        filtered_tokens = [stemmer.stem(word) for word in tokens if word not in stop_words and len(word) > 1]\n",
    "\n",
    "        return filtered_tokens\n",
    "\n",
    "    def indexFile(self, ingredients, fileId):\n",
    "        processed_ingredients = self.preProcess(' '.join(ingredients))\n",
    "        for token in set(processed_ingredients):\n",
    "            if token in self.DFpostings:\n",
    "                self.DFpostings[token].append(fileId)\n",
    "            else:\n",
    "                self.DFpostings[token] = [fileId]\n",
    "\n",
    "    def save(self):\n",
    "        with open(\"DFPostings.json\", \"w\") as file:\n",
    "            json.dump(self.DFpostings, file)\n",
    "\n",
    "#load json data\n",
    "with open('./sample_data.json', 'r') as file:\n",
    "    recipes = json.load(file)\n",
    "\n",
    "#initialize inverted index\n",
    "index = InvertedIndex()\n",
    "\n",
    "#index each recipe's ingredients\n",
    "for recipe_id, recipe_info in recipes.items():\n",
    "    index.indexFile(recipe_info['ingredients'], recipe_id)\n",
    "\n",
    "#save the index to a file\n",
    "index.save()\n"
   ]
  },
  {
   "cell_type": "code",
   "execution_count": null,
   "metadata": {},
   "outputs": [],
   "source": []
  }
 ],
 "metadata": {
  "kernelspec": {
   "display_name": "dsan5200",
   "language": "python",
   "name": "python3"
  },
  "language_info": {
   "codemirror_mode": {
    "name": "ipython",
    "version": 3
   },
   "file_extension": ".py",
   "mimetype": "text/x-python",
   "name": "python",
   "nbconvert_exporter": "python",
   "pygments_lexer": "ipython3",
   "version": "3.11.7"
  }
 },
 "nbformat": 4,
 "nbformat_minor": 2
}
